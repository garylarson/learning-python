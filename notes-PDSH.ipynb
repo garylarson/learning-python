{
 "cells": [
  {
   "cell_type": "raw",
   "metadata": {},
   "source": [
    "---\n",
    "title: \"Notes on Python Data Science Handbook\"\n",
    "author: 'Gary Larson'\n",
    "date: '2018-08-24'\n",
    "slug: notes-on-python-data-science-handbook\n",
    "tags:\n",
    "  - python\n",
    "categories: []\n",
    "subtitle: ''\n",
    "menu: blog\n",
    "weight: 10\n",
    "draft: false\n",
    "---"
   ]
  },
  {
   "cell_type": "markdown",
   "metadata": {},
   "source": [
    "This notebook contains notes I made while studying topics from the Python Data Science Handbook by Jake Vanderplas. His Github repo of the book is [here](https://github.com/jakevdp/PythonDataScienceHandbook). I forked the repo, and that clone is located on my local filesystem at \n",
    "```\n",
    "~/github/jakevdp_PythonDataScienceHandbook\n",
    "```"
   ]
  },
  {
   "cell_type": "markdown",
   "metadata": {},
   "source": [
    "# 3.01 - Introducing Pandas objects\n",
    "\n",
    "## The Pandas Index object (p. 105)"
   ]
  },
  {
   "cell_type": "markdown",
   "metadata": {},
   "source": [
    "Index objects are immutable. They can also be treated as ordered sets because \n",
    "\n",
    "> (p106) The `Index` object follows many of the conventions used by Python's built-in `set` data structure, so that unions, intersections, differences, and other combinations can be computed in a familiar way."
   ]
  },
  {
   "cell_type": "code",
   "execution_count": 49,
   "metadata": {},
   "outputs": [
    {
     "data": {
      "text/plain": [
       "Int64Index([3, 5, 7], dtype='int64')"
      ]
     },
     "execution_count": 49,
     "metadata": {},
     "output_type": "execute_result"
    }
   ],
   "source": [
    "import pandas as pd\n",
    "indA = pd.Index([1,3,5,7,9])\n",
    "indB = pd.Index([2,3,5,7,11])\n",
    "indA & indB # intersection"
   ]
  },
  {
   "cell_type": "markdown",
   "metadata": {},
   "source": [
    "# Chapter 5: Machine Learning"
   ]
  },
  {
   "cell_type": "markdown",
   "metadata": {},
   "source": [
    "# In Depth: Linear Regression"
   ]
  },
  {
   "cell_type": "markdown",
   "metadata": {},
   "source": [
    "These are described as standard inputs for linear regression:"
   ]
  },
  {
   "cell_type": "code",
   "execution_count": 50,
   "metadata": {},
   "outputs": [],
   "source": [
    "% matplotlib inline\n",
    "import matplotlib.pyplot as plt\n",
    "import seaborn as sns; sns.set()\n",
    "import numpy as np"
   ]
  },
  {
   "cell_type": "markdown",
   "metadata": {},
   "source": [
    "Let's create some data and plot it:"
   ]
  },
  {
   "cell_type": "code",
   "execution_count": 51,
   "metadata": {},
   "outputs": [
    {
     "data": {
      "image/png": "[encoded data removed]",
      "text/plain": [
       "<Figure size 432x288 with 1 Axes>"
      ]
     },
     "metadata": {},
     "output_type": "display_data"
    }
   ],
   "source": [
    "rng = np.random.RandomState(1) # GJL: setting a seed\n",
    "x = 10 * rng.rand(50)  # creates 50 random numbers in (0,10)\n",
    "y = 2 * x - 5 + rng.randn(50) # linear relationship + Gaussian noise\n",
    "plt.scatter(x,y);"
   ]
  },
  {
   "cell_type": "markdown",
   "metadata": {},
   "source": [
    "Let's fit a regression:"
   ]
  },
  {
   "cell_type": "code",
   "execution_count": 52,
   "metadata": {},
   "outputs": [],
   "source": [
    "from sklearn.linear_model import LinearRegression\n",
    "model = LinearRegression(fit_intercept=True)"
   ]
  },
  {
   "cell_type": "markdown",
   "metadata": {},
   "source": [
    "What is `model`? Well, remember **everything in Python is an object**. Try `help(model)` to see all the different elements of `model`, which, being an object, is an instance of the class `LinearRegression`."
   ]
  },
  {
   "cell_type": "markdown",
   "metadata": {},
   "source": [
    "It seems obvious that the following `model.fit()` call modifies the fields of the `model` instance in place. That may `model` can be further used in later lines."
   ]
  },
  {
   "cell_type": "code",
   "execution_count": 53,
   "metadata": {},
   "outputs": [
    {
     "data": {
      "text/plain": [
       "LinearRegression(copy_X=True, fit_intercept=True, n_jobs=1, normalize=False)"
      ]
     },
     "execution_count": 53,
     "metadata": {},
     "output_type": "execute_result"
    }
   ],
   "source": [
    "model.fit(x[:, np.newaxis],y)"
   ]
  },
  {
   "cell_type": "markdown",
   "metadata": {},
   "source": [
    "What is the purpose of `np.newaxis`? See [here](https://stackoverflow.com/questions/29241056/how-does-numpy-newaxis-work-and-when-to-use-it). Basically,\n",
    "\n",
    "> `np.newaxis` might come in handy when you want to *explicitly* convert an 1D array to either a *row vector* or a *column vector*\n",
    "\n",
    "In my case above, `x[:, np.newaxis]` makes `x` into a **column vector**. I'm not sure why the same treatment isn't required for `y`."
   ]
  },
  {
   "cell_type": "markdown",
   "metadata": {},
   "source": [
    "# Misc notes"
   ]
  },
  {
   "cell_type": "markdown",
   "metadata": {},
   "source": [
    "## Universal functions and array broadcasting"
   ]
  },
  {
   "cell_type": "markdown",
   "metadata": {},
   "source": [
    "This info is also covered in PDSH. Broadcasting starts on p. 63, where it's defined as \n",
    "\n",
    "> Broadcasting is simply a set of rules for applying binary ufuncs (addition, subtraction, multiplication, etc.) on arrays of different sizes.\n",
    "\n",
    "[This page](https://docs.scipy.org/doc/numpy-1.13.0/reference/ufuncs.html#ufuncs-broadcasting) of the Scipy documentation describes universal functions and array broadcasting. Basically array broadcasting is the automatic adjustment of array sizes and dimensions that is done in order to make a set of arrays the same size. Here's a really good example from that page.\n",
    "\n",
    "*Example:*\n",
    "If `a.shape` is (5,1), `b.shape` is (1,6), `c.shape` is (6,) and `d.shape` is () so that `d` is a scalar, then `a`, `b`, `c`, and `d` are all broadcastable to dimension (5,6); and\n",
    "\n",
    "- `a` acts like a (5,6) array where `a[:,0]` is broadcast to the other columns,\n",
    "- `b` acts like a (5,6) array where `b[0,:]` is broadcast to the other rows,\n",
    "- `c` acts like a (1,6) array and therefore like a (5,6) array where `c[:]` is broadcast to every row, and finally,\n",
    "- `d` acts like a (5,6) array where the single value is repeated."
   ]
  },
  {
   "cell_type": "markdown",
   "metadata": {},
   "source": [
    "# Orphaned notes (forgot what part of PDSH I was looking at)"
   ]
  },
  {
   "cell_type": "markdown",
   "metadata": {},
   "source": [
    "- In Python, everything's an object, which means many \"things\" have two ways of calling related methods: the object-oriented way and the non object-oriented way. \n",
    "    - _I thought the good code for this idea was around the Pandas Index object (p105 or so), but on second look, I can't find it there._"
   ]
  }
 ],
 "metadata": {
  "kernelspec": {
   "display_name": "Python 3",
   "language": "python",
   "name": "python3"
  },
  "language_info": {
   "codemirror_mode": {
    "name": "ipython",
    "version": 3
   },
   "file_extension": ".py",
   "mimetype": "text/x-python",
   "name": "python",
   "nbconvert_exporter": "python",
   "pygments_lexer": "ipython3",
   "version": "3.6.5"
  }
 },
 "nbformat": 4,
 "nbformat_minor": 2
}
