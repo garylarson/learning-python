{
 "cells": [
  {
   "cell_type": "raw",
   "metadata": {},
   "source": [
    "---\n",
    "title: \"Notes on A Whirlwind Tour of Python\"\n",
    "author: 'Gary Larson'\n",
    "date: '2018-08-24'\n",
    "slug: notes-on-whirlwind-python\n",
    "tags:\n",
    "  - python\n",
    "categories: []\n",
    "subtitle: ''\n",
    "menu: blog\n",
    "weight: 10\n",
    "draft: false\n",
    "---"
   ]
  },
  {
   "cell_type": "markdown",
   "metadata": {},
   "source": [
    "This notebook contains notes I made while studying topics from the Whirlwind Tour of Python by Jake Vanderplas. His Github repo of the book is [here](https://github.com/jakevdp/WhirlwindTourOfPython). I forked the repo, and that clone is located on my local filesystem at \n",
    "```\n",
    "~/github/jakevdp_WhirlwindTourOfPython\n",
    "```"
   ]
  },
  {
   "cell_type": "markdown",
   "metadata": {},
   "source": [
    "# Currently there's no notes here."
   ]
  }
 ],
 "metadata": {
  "kernelspec": {
   "display_name": "Python 3",
   "language": "python",
   "name": "python3"
  },
  "language_info": {
   "codemirror_mode": {
    "name": "ipython",
    "version": 3
   },
   "file_extension": ".py",
   "mimetype": "text/x-python",
   "name": "python",
   "nbconvert_exporter": "python",
   "pygments_lexer": "ipython3",
   "version": "3.6.5"
  }
 },
 "nbformat": 4,
 "nbformat_minor": 2
}
